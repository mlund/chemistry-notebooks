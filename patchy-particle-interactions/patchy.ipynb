{
 "cells": [
  {
   "cell_type": "markdown",
   "id": "twenty-arthritis",
   "metadata": {
    "tags": []
   },
   "source": [
    "# Interactions between patchy macro-ions\n",
    "\n",
    "In this exercise we will use the Metropolis-Hastings Monte Carlo algorithm to study how charged, patchy particles interact in an aquous salt solution. The model is as follows:\n",
    "\n",
    "- The spherical macro-ions have a radius of 40 Å and have a fixed number of positive and negative charges on it's surface. These can be uniformly distributed (`P00.xyz`) which gives a net-charge or _monopole moment_ of -8e. They can also be unevenly distributed (`P18.xyz`) to give, in addition to the monopole moment, also a _dipole moment_.\n",
    "\n",
    "- The solvent, water, is treated as a dielectric continuum\n",
    "\n",
    "- Counter-ions and background electrolyte is also _implicit_ and described with a so-called Yukawa potential which can be derived from Debye-Hückel theory.\n",
    "\n",
    "To learn more about the input and output, see the [online manual](https://faunus.readthedocs.io)."
   ]
  },
  {
   "cell_type": "code",
   "execution_count": null,
   "id": "likely-myanmar",
   "metadata": {},
   "outputs": [],
   "source": [
    "%matplotlib inline\n",
    "import matplotlib\n",
    "import numpy as np\n",
    "import matplotlib.pyplot as plt\n",
    "import nglview as nv\n",
    "import mdtraj as md\n",
    "import json"
   ]
  },
  {
   "cell_type": "markdown",
   "id": "entitled-smooth",
   "metadata": {},
   "source": [
    "## Task: Get familiar with the input and output\n",
    "\n",
    "The simulation is controlled by the input file `input.yml` and the shell command below sends it to the Faunus program. Get familiar with the input (`water.yml`) and output (`out.json`):\n",
    "\n",
    "1. What Monte Carlo moves do we have?\n",
    "1. What does _acceptance_ in the output mean?\n",
    "1. At the end of the simulation, you get a _drift_. What does that tell you?\n",
    "1. Is it OK to have a non-zero system charge?\n",
    "1. How does the _acceptance_ vary with the so-called _displacement parameter_?\n",
    "1. Plot `energy.dat` and describe how the system energy develops with MC steps?\n",
    "1. Plot the radial distribution function, $g(r)$ and give an interpretation.\n",
    "1. Give a mathematical formula for the used pair-potential\n",
    "1. Things to play with:\n",
    "  - [ ] number of MC steps\n",
    "  - [ ] salt concentration\n",
    "  - [ ] investigate P00-P00, P00-P18, and P18-P18 combinations.\n",
    "  - [ ] add multipole analysis -- see manual\n",
    "  - [ ] add a scattering intensity analysis -- see manual. You may also want to add more molecule.\n",
    "    \n",
    "### Running and restarting simulations\n",
    "\n",
    "When starting a simulation, the molecules are place at random positions and orientations. At the end of the simulation, a file `state.json` will be saved, and you can use it as the starting point for a new simulation by adding `-s state.json` after `faunus` shell command. You can also ask for more information using the `--verbosity` command line argument.\n"
   ]
  },
  {
   "cell_type": "code",
   "execution_count": null,
   "id": "subject-services",
   "metadata": {},
   "outputs": [],
   "source": [
    "!/Users/mikael/github/faunus/scripts/yason.py input.yml | /Users/mikael/github/faunus/cmake-build-release-gcc11/faunus # run simulation!"
   ]
  },
  {
   "cell_type": "markdown",
   "id": "expressed-validity",
   "metadata": {},
   "source": [
    "## Task: Visualize simulation trajectory\n",
    "\n",
    "During simulation, the configurations are periodically saved to disk and you can control this in the `analysis` section. Here we use the module [`nglview`](https://github.com/nglviewer/nglview) to visualise this directly in the notebook. Consult the nglview documentation and try to customise the molecular representation. Describe what happens to the water molecules during the simulation.\n",
    "\n",
    "- [ngl selection language](https://nglviewer.org/ngl/api/manual/selection-language.html)\n",
    "- [ngl tutorial](https://osscar-docs.readthedocs.io/en/latest/visualizer/index.html)\n",
    "- [Advanced ngl](https://projects.volkamerlab.org/teachopencadd/talktorials/T017_advanced_nglview_usage.html)"
   ]
  },
  {
   "cell_type": "code",
   "execution_count": null,
   "id": "mysterious-wells",
   "metadata": {},
   "outputs": [],
   "source": [
    "traj = md.load('traj.xtc', top='confout.gro')\n",
    "view = nv.show_mdtraj(traj)\n",
    "view.clear_representations()\n",
    "view.add_spacefill(selection='*', radius=2.0)\n",
    "view.add_spacefill(selection='.MP', radius=100, color='white') # larger?\n",
    "view.background = 'white'\n",
    "view.camera = 'orthographic'\n",
    "view.center()\n",
    "view.add_unitcell()\n",
    "view"
   ]
  },
  {
   "cell_type": "markdown",
   "id": "a57403c8-c26f-477b-9b99-1641f3b1954a",
   "metadata": {},
   "source": [
    "## Tips and Tricks\n",
    "\n",
    "Information and statistics about the simulation is stored in `out.json`. Python can easily read JSON files as shown below. The output file can be fairly nested, so it's always a good idea to first inspect it by double-clicking it in the file browser."
   ]
  },
  {
   "cell_type": "code",
   "execution_count": null,
   "id": "5a891bec-8872-4834-bc22-ab25a6c82569",
   "metadata": {},
   "outputs": [],
   "source": [
    "with open('out.json') as file:\n",
    "    d = json.load(file) # --> dict\n",
    "    acceptance = d['moves'][0]['moltransrot']['acceptance']\n",
    "    print('Acceptance probability for the first move is {:.1f}%'.format(acceptance*100))"
   ]
  },
  {
   "cell_type": "markdown",
   "id": "b86d35db-d3ad-42fe-b92d-a54438bfa5c1",
   "metadata": {
    "tags": []
   },
   "source": [
    "#### Plotting\n",
    "\n",
    "We can also plot data using `matplotlib`. By first inspecting the `energy.dat` file in the file browser, we see that it should be read like this:"
   ]
  },
  {
   "cell_type": "code",
   "execution_count": null,
   "id": "b01325b1-2e64-45aa-8053-6dd1e9dd7f51",
   "metadata": {},
   "outputs": [],
   "source": [
    "step, total, selfenergy, nonbonded = np.loadtxt('energy.dat', unpack=True, skiprows=1)\n",
    "print('average total energy = {:.3E} kT'.format(total.mean()))"
   ]
  },
  {
   "cell_type": "code",
   "execution_count": null,
   "id": "47c8ad2c-df75-4cec-8fe6-72f38ec0669f",
   "metadata": {},
   "outputs": [],
   "source": [
    "plt.plot(step, total, label='total')\n",
    "plt.plot(step, selfenergy, label='self energy')\n",
    "plt.plot(step, nonbonded, label='nonbonded')\n",
    "plt.xlabel('Monte Carlo steps')\n",
    "plt.ylabel(r'Energy ($k_BT)$')\n",
    "plt.title('Energy vs. steps')\n",
    "plt.legend(loc=0, frameon=False)"
   ]
  }
 ],
 "metadata": {
  "kernelspec": {
   "display_name": "Python 3 (ipykernel)",
   "language": "python",
   "name": "python3"
  },
  "language_info": {
   "codemirror_mode": {
    "name": "ipython",
    "version": 3
   },
   "file_extension": ".py",
   "mimetype": "text/x-python",
   "name": "python",
   "nbconvert_exporter": "python",
   "pygments_lexer": "ipython3",
   "version": "3.9.10"
  }
 },
 "nbformat": 4,
 "nbformat_minor": 5
}
