{
 "cells": [
  {
   "cell_type": "code",
   "execution_count": 12,
   "metadata": {},
   "outputs": [],
   "source": [
    "%matplotlib inline\n",
    "import matplotlib.pyplot as plt\n",
    "import numpy as np\n",
    "from ipywidgets import interact, interactive, fixed, interact_manual\n",
    "import ipywidgets as widgets\n",
    "from sympy import *\n",
    "from scipy.integrate import quad\n",
    "plt.rcParams.update({'font.size': 16, 'figure.figsize': [8.0, 6.0]})\n",
    "init_printing()"
   ]
  },
  {
   "cell_type": "code",
   "execution_count": 2,
   "metadata": {},
   "outputs": [],
   "source": [
    "N,V,T,Q,L,q,k,h,m,beta = symbols(\"N V T Q Lambda q k h m beta\", positive=True, real=True)\n",
    "E,S,F,A = symbols(\"E S G A\", real=True)"
   ]
  },
  {
   "cell_type": "markdown",
   "metadata": {},
   "source": [
    "# Ideal monatomic gas\n",
    "\n",
    "Here we show how to use `sympy` to symbolically manage expressions, take the derivative etc."
   ]
  },
  {
   "cell_type": "markdown",
   "metadata": {},
   "source": [
    "#### Partition function"
   ]
  },
  {
   "cell_type": "code",
   "execution_count": 3,
   "metadata": {},
   "outputs": [],
   "source": [
    "L = h/sqrt(2*pi*m/beta) # de Broglie wavelength\n",
    "q = V/L**3              # translational partition function\n",
    "Q = q**N / factorial(N) # molecular part. func.; independent particles"
   ]
  },
  {
   "cell_type": "markdown",
   "metadata": {},
   "source": [
    "#### Energy"
   ]
  },
  {
   "cell_type": "code",
   "execution_count": 4,
   "metadata": {},
   "outputs": [
    {
     "data": {
      "image/png": "[encoded data removed]",
      "text/latex": [
       "$\\displaystyle \\frac{3 N T k}{2}$"
      ],
      "text/plain": [
       "3⋅N⋅T⋅k\n",
       "───────\n",
       "   2   "
      ]
     },
     "execution_count": 4,
     "metadata": {},
     "output_type": "execute_result"
    }
   ],
   "source": [
    "E = -diff(ln(Q), beta)\n",
    "E.subs(beta, 1/(k*T))"
   ]
  },
  {
   "cell_type": "markdown",
   "metadata": {},
   "source": [
    "#### Free energy (experimental section)"
   ]
  },
  {
   "cell_type": "code",
   "execution_count": 5,
   "metadata": {},
   "outputs": [
    {
     "data": {
      "image/png": "[encoded data removed]",
      "text/latex": [
       "$\\displaystyle - T k \\left(N \\log{\\left(V \\right)} + \\log{\\left(\\left(\\frac{1}{\\Lambda^{3}}\\right)^{N} \\right)} - \\log{\\left(\\Gamma\\left(N + 1\\right) \\right)}\\right)$"
      ],
      "text/plain": [
       "     ⎛              ⎛    N⎞                ⎞\n",
       "     ⎜              ⎜⎛1 ⎞ ⎟                ⎟\n",
       "-T⋅k⋅⎜N⋅log(V) + log⎜⎜──⎟ ⎟ - log(Γ(N + 1))⎟\n",
       "     ⎜              ⎜⎜ 3⎟ ⎟                ⎟\n",
       "     ⎝              ⎝⎝Λ ⎠ ⎠                ⎠"
      ]
     },
     "execution_count": 5,
     "metadata": {},
     "output_type": "execute_result"
    }
   ],
   "source": [
    "L = symbols('Lambda')\n",
    "Q = (V/L**3)**N / factorial(N)\n",
    "F = -k*T*ln(Q)\n",
    "F = simplify(F)\n",
    "F"
   ]
  },
  {
   "cell_type": "code",
   "execution_count": 6,
   "metadata": {},
   "outputs": [
    {
     "data": {
      "image/png": "[encoded data removed]",
      "text/latex": [
       "$\\displaystyle - T k \\left(\\log{\\left(\\frac{V^{N}}{\\Gamma\\left(N + 1\\right)} \\right)} + \\log{\\left(\\left(\\frac{1}{\\Lambda^{3}}\\right)^{N} \\right)}\\right)$"
      ],
      "text/plain": [
       "     ⎛   ⎛    N   ⎞      ⎛    N⎞⎞\n",
       "     ⎜   ⎜   V    ⎟      ⎜⎛1 ⎞ ⎟⎟\n",
       "-T⋅k⋅⎜log⎜────────⎟ + log⎜⎜──⎟ ⎟⎟\n",
       "     ⎜   ⎝Γ(N + 1)⎠      ⎜⎜ 3⎟ ⎟⎟\n",
       "     ⎝                   ⎝⎝Λ ⎠ ⎠⎠"
      ]
     },
     "execution_count": 6,
     "metadata": {},
     "output_type": "execute_result"
    }
   ],
   "source": [
    "F = F.subs( log(factorial(N)), N*log(N)-N ) # stirling's approximation\n",
    "logcombine(F)"
   ]
  },
  {
   "cell_type": "markdown",
   "metadata": {},
   "source": [
    "# Rotational Partition Function\n",
    "\n",
    "The following plots the rotational partition function and how each quantum number, $J$, contributions. We use `ipywidgets` to add an interactive slider to control the temperature.\n",
    "The manual for `ipywidgets` can be found [here](https://ipywidgets.readthedocs.io/en/latest/index.html)."
   ]
  },
  {
   "cell_type": "code",
   "execution_count": 17,
   "metadata": {
    "scrolled": false
   },
   "outputs": [
    {
     "data": {
      "application/vnd.jupyter.widget-view+json": {
       "model_id": "c2f31727fe5741f6a51277abba4208ca",
       "version_major": 2,
       "version_minor": 0
      },
      "text/plain": [
       "interactive(children=(IntSlider(value=525, description='T', max=1000, min=50), Button(description='Run Interac…"
      ]
     },
     "metadata": {},
     "output_type": "display_data"
    }
   ],
   "source": [
    "from scipy.constants import h, c, k, N_A\n",
    "from scipy.misc import derivative \n",
    "\n",
    "B = 10.591 * 100 # 1/m # rotational wave-number (related to moment of inertia)\n",
    "J = np.arange(0,15,1)  # quantum numbers (called \"l\" in Dill's book)\n",
    "\n",
    "def q(J,beta):\n",
    "    ''' rotational partition function for a given J '''\n",
    "    return (2*J+1) * np.exp( -beta*h*c*B*J*(J+1) )\n",
    "\n",
    "def qrot(beta):\n",
    "    ''' partition function for \"inifinite\" number of quantum numbers '''\n",
    "    J = np.arange(0,500,1)\n",
    "    return np.sum( q(J,beta) )\n",
    "\n",
    "def qrotHT(beta):\n",
    "    ''' partition function in the high temperature limit, i.e. summation --> integral '''\n",
    "    return 1/(beta*h*c*B)\n",
    "\n",
    "def plot(T):\n",
    "    ''' plots partition function at given temperature '''\n",
    "    beta = 1/(k*T)\n",
    "    plt.plot( J, q(J,beta).cumsum(), 'b--o', alpha=0.7, lw=2, ms=10,\n",
    "             label=r'Explicit summation <$E$>={:.2f} kT'\n",
    "             .format(-derivative( qrot, beta, dx=0.001*beta ) / qrot(beta) * beta) )\n",
    "    plt.plot( [0,1000], [qrotHT(beta),qrotHT(beta)], 'r-', alpha=0.5, lw=4,\n",
    "             label=r'High temperature limit <$E$>={:.2f} kT'\n",
    "             .format(-derivative( qrotHT, beta, dx=0.001*beta ) / qrotHT(beta) * beta))\n",
    "    plt.xlim( 0, 14 )\n",
    "    plt.xlabel( 'Quantum number, $J$' )\n",
    "    plt.ylabel( 'Summed partition function, $q$' )\n",
    "    plt.legend(loc=0, frameon=False)\n",
    "    plt.title('Rotational Partition Function, $q_r$')\n",
    "\n",
    "# this part sets up a temperature slider to control the plot\n",
    "i = interact_manual(plot, T=(50, 1000), continuous_update=False )\n",
    "i.widget.children[0].description=r'$T$ (Kelvin)'"
   ]
  },
  {
   "cell_type": "markdown",
   "metadata": {},
   "source": [
    "# Two-level system\n",
    "\n",
    "Here we consider a system where two energy level are possible; the ground state (0) and the first excited state, $\\epsilon$. The partition function is\n",
    "\n",
    "$$\n",
    "q = 1+e^{-\\epsilon / k_BT}\n",
    "$$"
   ]
  },
  {
   "cell_type": "code",
   "execution_count": 16,
   "metadata": {},
   "outputs": [
    {
     "data": {
      "text/plain": [
       "Text(0.5, 0, 'Temperature')"
      ]
     },
     "execution_count": 16,
     "metadata": {},
     "output_type": "execute_result"
    },
    {
     "data": {
      "image/png": "[encoded data removed]",
      "text/plain": [
       "<Figure size 576x432 with 1 Axes>"
      ]
     },
     "metadata": {
      "needs_background": "light"
     },
     "output_type": "display_data"
    }
   ],
   "source": [
    "from scipy.constants import h, c, k, N_A # import physical constants\n",
    "\n",
    "def q(T): return 1+np.exp(-epsilon/(k*T))\n",
    "def energy(T): return epsilon / (np.exp(epsilon/(k*T)+1) ) # atkins p625 (10th)\n",
    "def Cv(T): return np.gradient( energy(T)/k, T[1]-T[0] )\n",
    "\n",
    "fig, ax = plt.subplots()\n",
    "epsilon=k*4\n",
    "T=np.arange(0.1, 10, 0.5)\n",
    "plt.plot(T,q(T), label=r'$q = 1+1 / e^{-\\beta \\epsilon}$', lw=4, alpha=0.7)\n",
    "plt.plot(T, energy(T)/k, label=r'$\\langle \\epsilon \\rangle = -\\frac{1}{q}\\frac{\\partial q}{\\partial \\beta}$',\n",
    "         lw=4, alpha=0.7)\n",
    "plt.plot(T, Cv(T), label=r'$C_v=\\partial \\langle \\epsilon \\rangle / \\partial T$', lw=4, alpha=0.7)\n",
    "plt.legend(frameon=False, loc=0, fontsize='large', ncol=2)\n",
    "plt.ylim(0, 2)\n",
    "plt.xlabel('Temperature')"
   ]
  },
  {
   "cell_type": "markdown",
   "metadata": {
    "collapsed": true
   },
   "source": [
    "# Bragg-Williams Model for a Two-component System\n",
    "\n",
    "This example demonstrates how the Bragg-Williams (BW) model predicts the partial pressure of compoments A and B over a liquid mixture of the two. The interaction parameter $\\alpha$ includes the relative A-B neighbor interaction, compared to the A-B and B-B interactions, as well as the number of neighbors, $z$. The partial pressure is given by,\n",
    "$$\n",
    "p_A = p_A^0 \\chi_A e^{\\alpha \\chi_B^2}\n",
    "$$\n",
    "\n",
    "where $p_A^0$ is the vapor pressure of pure A. If either $\\alpha$ or the mole fraction, $\\chi_B$, of the other component approach zero, ideal behavior, i.e. Rault's law, is obtained:\n",
    "$$\n",
    "p_A = p_A^0 \\chi_A\n",
    "$$"
   ]
  },
  {
   "cell_type": "code",
   "execution_count": 14,
   "metadata": {},
   "outputs": [
    {
     "data": {
      "application/vnd.jupyter.widget-view+json": {
       "model_id": "01307f3000de4989af8f39962d23ca28",
       "version_major": 2,
       "version_minor": 0
      },
      "text/plain": [
       "interactive(children=(FloatSlider(value=1.0, description='alpha', max=3.0, min=-3.0, step=0.5), FloatSlider(va…"
      ]
     },
     "metadata": {},
     "output_type": "display_data"
    }
   ],
   "source": [
    "chiA = np.arange(0,1.1,0.05) # mole fraction of A\n",
    "chiB = 1-chiA                # mole fraction of B\n",
    "\n",
    "def plotbw(alpha=1, p0A=0.7, p0B=0.2):\n",
    "    plt.plot( chiA, chiA * p0A * np.exp(alpha*chiB**2),'b-', label='Bragg-Williams'  )\n",
    "    plt.plot( chiA, chiA * p0A, 'b--', label=\"Rault's law\")    \n",
    "    plt.plot( chiA, chiB * p0B * np.exp(alpha*chiA**2),'r-')\n",
    "    plt.plot( chiA, chiB * p0B, 'r--')\n",
    "    plt.xlim(0,1)\n",
    "\n",
    "    plt.xlabel(r'$\\chi_A=1-\\chi_B$')\n",
    "    plt.ylabel(r'$p$', color='k')\n",
    "    \n",
    "    plt.annotate(r'$p_A^0$', (1,p0A), color='blue')\n",
    "    plt.annotate(r'$p_B^0$', (0,p0B), color='red')\n",
    "    plt.legend(loc=0, frameon=False)\n",
    "\n",
    "i = interact(plotbw, alpha=(-3,3, 0.5), p0A=(0,1,0.1), p0B=(0,1,0.1), continuous_update=False )\n",
    "\n",
    "i.widget.children[0].description=r'$\\alpha$'\n",
    "i.widget.children[1].description=r'$p_A^0$'\n",
    "i.widget.children[2].description=r'$p_B^0$'"
   ]
  },
  {
   "cell_type": "markdown",
   "metadata": {
    "collapsed": true
   },
   "source": [
    "# Equation of State using Generalized van der Waals Theory\n",
    "\n",
    "This notebook illustrates the generalized van der Waals theory (gvdW) for the equation of state for interacting particles. Based on the lecture notes, _Properties of Molecular Fluids in Equilibrium_ by Sture Nordholm.\n",
    "\n",
    "### Pair potential\n",
    "\n",
    "The particles are here assumed to interact via a _Lennard-Jones_ potential,\n",
    "$$\n",
    "\\beta w(r) =\n",
    "4\\beta \\varepsilon_{LJ} \\left ( \\left ( \\frac{\\sigma}{r}\\right )^{12} - \\left ( \\frac{\\sigma}{r}\\right )^{6}\\right )\n",
    "$$\n",
    "\n",
    "Any potential may in principle be given and must return the energy in units of $k_BT=\\beta^{-1}$.\n",
    "\n",
    "### Interaction parameter\n",
    "\n",
    "Here we integrate the above pair potential to get the average interaction energy per particle, assuming that the pair correlation function, $g(r)$, can be described by a simple step function, zero when $r<\\sigma$, unity otherwise:\n",
    "$$ \n",
    "\\hat{a} = -\\frac{1}{2} \\int_{\\sigma}^{\\infty} 4\\pi w(r) r^2 dr\n",
    "$$\n",
    "\n",
    "In this Notebook we simply do the integration numerically so that we can use arbitrary pair potentials.\n",
    "From this we calculate the pressure, $p$, versus density, $n$, using,\n",
    "$$\n",
    "\\beta p_{gvdW} = \\frac{1}{v-v_0} - \\frac{\\hat{a}}{v^2}\n",
    "$$\n",
    "\n",
    "where $v=1/n$ and $v_0=2\\pi\\sigma^3/3$ is the particle volume.\n",
    "For reference we'll also plot EOS for an ideal system (van 't Hoff), $\\beta p_{ideal}=n$,\n",
    "where $\\beta = 1/k_BT$."
   ]
  },
  {
   "cell_type": "code",
   "execution_count": 15,
   "metadata": {},
   "outputs": [
    {
     "data": {
      "application/vnd.jupyter.widget-view+json": {
       "model_id": "a553c8e6551444ca8f2c692095254ee1",
       "version_major": 2,
       "version_minor": 0
      },
      "text/plain": [
       "interactive(children=(FloatSlider(value=0.0, description='eps', max=2.0), FloatSlider(value=4.0, description='…"
      ]
     },
     "metadata": {},
     "output_type": "display_data"
    }
   ],
   "source": [
    "def pairpotential(r, eps, sigma): # Lennard-Jones potential\n",
    "    return 4 * eps * ( (sigma/r)**12 - (sigma/r)**6 )\n",
    "\n",
    "def Pgvdw(n, eps, sigma):\n",
    "    a  = -2*pi*quad(lambda r: pairpotential(r, eps, sigma)*r**2, sigma, np.infty, limit=20)[0]\n",
    "    v0 = 2*pi*sigma**3 / 3\n",
    "    v  = 1 / n\n",
    "    return 1/(v-v0) - a/v**2\n",
    "\n",
    "def Pideal(n): # ideal gas law\n",
    "    return n\n",
    "\n",
    "def plot( eps=0, sigma=4.0 ):\n",
    "    plt.plot(n, Pideal(n),  'k--', label='ideal', lw=2)\n",
    "    plt.plot(n, Pgvdw(n, eps, sigma),  'r-', label='gvdW', lw=2)\n",
    "    plt.legend(loc=0, frameon=False)\n",
    "    \n",
    "    plt.xlabel(r'Density, $n$')\n",
    "    plt.ylabel(r'Pressure, $\\beta p$')\n",
    "\n",
    "n = np.linspace(1e-7, 6e-3, 50)    \n",
    "i = interact(plot, eps=(0.0, 2.0, 0.1), sigma=(0, 5, 0.1), continuous_update=False )\n",
    " \n",
    "i.widget.children[0].description=r'$\\beta\\varepsilon_{LJ}$'\n",
    "i.widget.children[1].description=r'$\\sigma_{LJ}$'"
   ]
  },
  {
   "cell_type": "markdown",
   "metadata": {},
   "source": [
    "## Variation of Dill problem 5.1 (page 91)\n",
    "\n",
    "Let's assume that each corner (n, s, e, w) are associated with an energy, $\\epsilon_i$. Specifically we set an attraction for north ($\\beta\\epsilon_n=-0.5$) and a repulsion for south ($\\beta\\epsilon_s = 0.5$)."
   ]
  },
  {
   "cell_type": "code",
   "execution_count": 9,
   "metadata": {},
   "outputs": [
    {
     "name": "stdout",
     "output_type": "stream",
     "text": [
      "p_i = [0.38745562 0.14253696 0.23500371 0.23500371]\n",
      "sum(p_i) = 1.0\n",
      "S/k = 1.326\n"
     ]
    }
   ],
   "source": [
    "energy = np.array([-0.5, 0.5, 0.0, 0.0])\n",
    "p = np.exp(-energy) / np.exp(-energy).sum()\n",
    "entropy = -(p*np.log(p)).sum()\n",
    "print(\"p_i =\", p)\n",
    "print(\"sum(p_i) =\", p.sum())\n",
    "print(\"S/k = {:.3f}\".format(entropy))"
   ]
  },
  {
   "cell_type": "code",
   "execution_count": null,
   "metadata": {},
   "outputs": [],
   "source": []
  }
 ],
 "metadata": {
  "anaconda-cloud": {},
  "kernelspec": {
   "display_name": "Python 3",
   "language": "python",
   "name": "python3"
  },
  "language_info": {
   "codemirror_mode": {
    "name": "ipython",
    "version": 3
   },
   "file_extension": ".py",
   "mimetype": "text/x-python",
   "name": "python",
   "nbconvert_exporter": "python",
   "pygments_lexer": "ipython3",
   "version": "3.7.8"
  },
  "widgets": {
   "state": {
    "87180b4c08944079bd38f6e9c5fe21a8": {
     "views": [
      {
       "cell_index": 15
      }
     ]
    },
    "fbba64368cd84ce3a14a3022b2eb8f39": {
     "views": [
      {
       "cell_index": 17
      }
     ]
    }
   },
   "version": "1.2.0"
  }
 },
 "nbformat": 4,
 "nbformat_minor": 1
}
