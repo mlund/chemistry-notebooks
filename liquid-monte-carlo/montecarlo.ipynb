{
 "cells": [
  {
   "cell_type": "markdown",
   "id": "twenty-arthritis",
   "metadata": {},
   "source": [
    "# Monte Carlo Simulation of Water\n",
    "\n",
    "In this exercise we will use the Metropolis-Hastings Monte Carlo algorithm to study a collection of water molecules at a given temperature. As you probably know, water can be found in a number of phases - gas, liquid, ice - and its complex properties are strongly affected by water's ability to form hydrogen bonds. Here we approximate water using a so-called three-point model where oxygen and the two hydrogens are simply treated a three sites, interacting via a classical (and of course approximate) potential energy function.\n",
    "\n",
    "To simulate the system, we will use the [_Faunus_ software](https://github.com/mlund/faunus).\n",
    "To learn more about the input and output, see the [online manual](https://faunus.readthedocs.io)."
   ]
  },
  {
   "cell_type": "code",
   "execution_count": null,
   "id": "likely-myanmar",
   "metadata": {},
   "outputs": [],
   "source": [
    "%matplotlib inline\n",
    "import matplotlib\n",
    "import numpy as np\n",
    "import matplotlib.pyplot as plt\n",
    "import nglview as nv\n",
    "import mdtraj as md\n",
    "import json"
   ]
  },
  {
   "cell_type": "markdown",
   "id": "entitled-smooth",
   "metadata": {},
   "source": [
    "## Task: Get familiar with the input and output\n",
    "\n",
    "The simulation is controlled by the input file `water.yml` and the shell command below sends it to the Faunus program. Get familiar with the input (`water.yml`) and output (`out.json`):\n",
    "\n",
    "1. What Monte Carlo moves do we have?\n",
    "1. What does _acceptance_ in the output mean?\n",
    "1. Plot `energy.dat` and describe how the system energy develops with MC steps?\n",
    "1. Things to vary and play with:\n",
    "  - number of particles (what is the density in g/l?)\n",
    "  - atomic charges (what is the dipole moment of water? _Debye_ is a common unit)). You could try to replace water with H2S and see what happens in the _NPT_ ensemble.\n",
    "  - number of MC steps\n",
    "1. How does the _acceptance_ vary with the so-called _displacement parameter_?\n",
    "1. Plot the radial distribution function, $g(r)$. See `rdf.out`\n",
    "  - how does it vary with density and/or dipole moment?\n",
    "  \n",
    "  \n",
    "_Tip - restarting simulations_: When starting a simulation, the molecules are place at random positions and orientations. At the end of the simulation, a file `state.json` will be saved, and you can use it as the starting point for a new simulation by adding `-s state.json` after `faunus` shell command.\n"
   ]
  },
  {
   "cell_type": "code",
   "execution_count": null,
   "id": "subject-services",
   "metadata": {},
   "outputs": [],
   "source": [
    "!yason.py water.yml | faunus # run simulation!"
   ]
  },
  {
   "cell_type": "markdown",
   "id": "expressed-validity",
   "metadata": {},
   "source": [
    "## Task: Visualize simulation trajectory\n",
    "\n",
    "During simulation, the configurations are periodically saved to disk and you can control this in the `analysis` section. Here we use the module [`nglview`](https://github.com/nglviewer/nglview) to visualise this directly in the notebook. Consult the nglview documentation and try to customise the molecular representation. Describe what happens to the water molecules during the simulation."
   ]
  },
  {
   "cell_type": "code",
   "execution_count": null,
   "id": "mysterious-wells",
   "metadata": {},
   "outputs": [],
   "source": [
    "traj = md.load('traj.xtc', top='confout.gro')\n",
    "view = nv.show_mdtraj(traj)\n",
    "view.clear_representations()\n",
    "view.add_spacefill(selection='*')\n",
    "view.background = 'white'\n",
    "view.camera = 'orthographic'\n",
    "view.center()\n",
    "view"
   ]
  },
  {
   "cell_type": "markdown",
   "id": "statistical-family",
   "metadata": {},
   "source": [
    "## Task: Add a Monte Carlo move to change the _volume_ of the simulation container\n",
    "\n",
    "In the previous section we used a _fixed_ simulation container and thus simulated in the _canonical ensemble_, i.e. with the number of particles, volume, and temperature constant ($NVT$). The Monte Carlo moves affected only the positions and orientations of the water molecules. We now keep the _pressure_ constant and now also perform moves on the _volume_ using the Metropolis algorithm. This now generate configurations in the _isobaric-isothermal ensemble_ ($PVT$).\n",
    "\n",
    "Add the following to the energy and move sections of the input, respectively:\n",
    "\n",
    "- `isobaric: {P/atm: 1.0}` # energy term\n",
    "- `volume: {dV: 0.03, method: isotropic}` # move term\n",
    "\n",
    "Consult the [Faunus manual](https://faunus.readthedocs.io) to describe the used parameters and how they affect the simulation. Things to explore:\n",
    "\n",
    "- What density do you obtain\n",
    "- How does the box change during simulation\n",
    "- What happens to the density if you decrease or even remove the dipole moment of water?"
   ]
  },
  {
   "cell_type": "markdown",
   "id": "a57403c8-c26f-477b-9b99-1641f3b1954a",
   "metadata": {},
   "source": [
    "## Tips and Tricks\n",
    "\n",
    "Information and statistics about the simulation is stored in `out.json`. Python can easily read JSON files as shown below. The output file can be fairly nested, so it's always a good idea to first inspect it by double-clicking it in the file browser."
   ]
  },
  {
   "cell_type": "code",
   "execution_count": null,
   "id": "5a891bec-8872-4834-bc22-ab25a6c82569",
   "metadata": {},
   "outputs": [],
   "source": [
    "with open('out.json') as file:\n",
    "    d = json.load(file) # --> dict\n",
    "    acceptance = d['moves'][0]['moltransrot']['acceptance']\n",
    "    print('Acceptance probability for the first move is {:.1f}%'.format(acceptance*100))"
   ]
  },
  {
   "cell_type": "markdown",
   "id": "b86d35db-d3ad-42fe-b92d-a54438bfa5c1",
   "metadata": {
    "tags": []
   },
   "source": [
    "#### Plotting\n",
    "\n",
    "We can also plot data using `matplotlib`. By first inspecting the `energy.dat` file in the file browser, we see that it should be read like this:"
   ]
  },
  {
   "cell_type": "code",
   "execution_count": null,
   "id": "b01325b1-2e64-45aa-8053-6dd1e9dd7f51",
   "metadata": {},
   "outputs": [],
   "source": [
    "step, total, selfenergy, nonbonded = np.loadtxt('energy.dat', unpack=True, skiprows=1)\n",
    "print('average total energy = {:.3E} kT'.format(total.mean()))"
   ]
  },
  {
   "cell_type": "code",
   "execution_count": null,
   "id": "47c8ad2c-df75-4cec-8fe6-72f38ec0669f",
   "metadata": {},
   "outputs": [],
   "source": [
    "plt.plot(step, total, label='total')\n",
    "plt.plot(step, selfenergy, label='self energy')\n",
    "plt.plot(step, nonbonded, label='nonbonded')\n",
    "plt.xlabel('Monte Carlo steps')\n",
    "plt.ylabel(r'Energy ($k_BT)$')\n",
    "plt.title('Energy vs. steps')\n",
    "plt.legend(loc=0, frameon=False)"
   ]
  }
 ],
 "metadata": {
  "kernelspec": {
   "display_name": "Python 3 (ipykernel)",
   "language": "python",
   "name": "python3"
  },
  "language_info": {
   "codemirror_mode": {
    "name": "ipython",
    "version": 3
   },
   "file_extension": ".py",
   "mimetype": "text/x-python",
   "name": "python",
   "nbconvert_exporter": "python",
   "pygments_lexer": "ipython3",
   "version": "3.12.8"
  }
 },
 "nbformat": 4,
 "nbformat_minor": 5
}
