{
 "cells": [
  {
   "cell_type": "markdown",
   "metadata": {},
   "source": [
    "# Surface area of two intersecting spheres\n",
    "\n",
    "This will calculate the surface area of two intersecting spheres as probed with a smaller probe of radius `proberadius`. The results from an analytical expression is compared to a numerical scheme (freesasa). For more information, see:\n",
    "\n",
    "- http://mathworld.wolfram.com/SphericalCap.html\n",
    "- https://freesasa.github.io/python/classes.html#parameters"
   ]
  },
  {
   "cell_type": "code",
   "execution_count": 1,
   "metadata": {
    "collapsed": true
   },
   "outputs": [],
   "source": [
    "%matplotlib inline\n",
    "import matplotlib\n",
    "import numpy as np\n",
    "import matplotlib.pyplot as plt\n",
    "import numpy as np\n",
    "from math import pi\n",
    "import freesasa # pip install freesasa"
   ]
  },
  {
   "cell_type": "code",
   "execution_count": 2,
   "metadata": {},
   "outputs": [],
   "source": [
    "proberadius = 1.4 # angstrom\n",
    "param = freesasa.Parameters()\n",
    "param.setProbeRadius(proberadius)\n",
    "\n",
    "def fsasa(R,r,d):\n",
    "    ''' numerical sasa calculation '''\n",
    "    return freesasa.calcCoord([0,0,0,d,0,0], [R,r], param).totalArea()\n",
    "    \n",
    "def area(R, r, d):\n",
    "    ''' analytical sasa calculation '''\n",
    "    R = R + proberadius\n",
    "    r = r + proberadius\n",
    "    area = 4*pi*(R*R + r*r) # full volume of both spheres\n",
    "    if d>=R+r:\n",
    "        return area\n",
    "    if r>R:\n",
    "        R,r = r,R\n",
    "    if d+r<R:\n",
    "        return 4*pi*R*R # full vilume of biggest sphere\n",
    "    \n",
    "    h1 = (r-R+d)*(r+R-d) / (2*d) # height of spherical caps\n",
    "    h2 = (R-r+d)*(R+r-d) / (2*d) # comprising intersecting lens\n",
    "    return area - 2*pi*R*h1 - 2*pi*r*h2\n",
    "\n",
    "vfsasa = np.vectorize(fsasa)\n",
    "varea = np.vectorize(area)"
   ]
  },
  {
   "cell_type": "code",
   "execution_count": 17,
   "metadata": {},
   "outputs": [
    {
     "data": {
      "text/plain": [
       "<matplotlib.legend.Legend at 0x112dcd7f0>"
      ]
     },
     "execution_count": 17,
     "metadata": {},
     "output_type": "execute_result"
    },
    {
     "data": {
      "image/png": "[encoded data removed]",
      "text/plain": [
       "<matplotlib.figure.Figure at 0x112c9b4a8>"
      ]
     },
     "metadata": {},
     "output_type": "display_data"
    }
   ],
   "source": [
    "R = 4.0\n",
    "r = 10\n",
    "d = np.linspace(0,30,50)\n",
    "\n",
    "\n",
    "plt.plot( d, varea(R,r,d), 'r-', lw=4, label='analytical')\n",
    "plt.plot( d, vfsasa(R,r,d), 'bo', alpha=0.3, label='freesasa')\n",
    "plt.xlabel(r'center-to-center distance (Å)')\n",
    "plt.ylabel(r'surface area (Å$^2$)')\n",
    "plt.legend(frameon=False)\n"
   ]
  },
  {
   "cell_type": "code",
   "execution_count": null,
   "metadata": {
    "collapsed": true
   },
   "outputs": [],
   "source": []
  }
 ],
 "metadata": {
  "kernelspec": {
   "display_name": "Python 3",
   "language": "python",
   "name": "python3"
  },
  "language_info": {
   "codemirror_mode": {
    "name": "ipython",
    "version": 3
   },
   "file_extension": ".py",
   "mimetype": "text/x-python",
   "name": "python",
   "nbconvert_exporter": "python",
   "pygments_lexer": "ipython3",
   "version": "3.6.2"
  }
 },
 "nbformat": 4,
 "nbformat_minor": 2
}
